{
 "cells": [
  {
   "cell_type": "code",
   "execution_count": 1,
   "metadata": {
    "collapsed": true
   },
   "outputs": [],
   "source": [
    "import tensorflow as tf\n",
    "import numpy as np\n",
    "import pandas as pd\n",
    "from pandas import get_dummies\n",
    "import matplotlib.pyplot as plt\n",
    "from sklearn.model_selection import train_test_split"
   ]
  },
  {
   "cell_type": "markdown",
   "metadata": {},
   "source": [
    "<h1>Load data</h1>"
   ]
  },
  {
   "cell_type": "code",
   "execution_count": 2,
   "metadata": {
    "collapsed": true
   },
   "outputs": [],
   "source": [
    "file_name = \"iris.data.csv\""
   ]
  },
  {
   "cell_type": "code",
   "execution_count": 3,
   "metadata": {
    "collapsed": false
   },
   "outputs": [
    {
     "data": {
      "text/html": [
       "<div>\n",
       "<table border=\"1\" class=\"dataframe\">\n",
       "  <thead>\n",
       "    <tr style=\"text-align: right;\">\n",
       "      <th></th>\n",
       "      <th>sepal_length</th>\n",
       "      <th>sepal_width</th>\n",
       "      <th>petal_length</th>\n",
       "      <th>petal_width</th>\n",
       "      <th>species</th>\n",
       "    </tr>\n",
       "  </thead>\n",
       "  <tbody>\n",
       "    <tr>\n",
       "      <th>0</th>\n",
       "      <td>5.1</td>\n",
       "      <td>3.5</td>\n",
       "      <td>1.4</td>\n",
       "      <td>0.2</td>\n",
       "      <td>Iris-setosa</td>\n",
       "    </tr>\n",
       "    <tr>\n",
       "      <th>1</th>\n",
       "      <td>4.9</td>\n",
       "      <td>3.0</td>\n",
       "      <td>1.4</td>\n",
       "      <td>0.2</td>\n",
       "      <td>Iris-setosa</td>\n",
       "    </tr>\n",
       "    <tr>\n",
       "      <th>2</th>\n",
       "      <td>4.7</td>\n",
       "      <td>3.2</td>\n",
       "      <td>1.3</td>\n",
       "      <td>0.2</td>\n",
       "      <td>Iris-setosa</td>\n",
       "    </tr>\n",
       "    <tr>\n",
       "      <th>3</th>\n",
       "      <td>4.6</td>\n",
       "      <td>3.1</td>\n",
       "      <td>1.5</td>\n",
       "      <td>0.2</td>\n",
       "      <td>Iris-setosa</td>\n",
       "    </tr>\n",
       "    <tr>\n",
       "      <th>4</th>\n",
       "      <td>5.0</td>\n",
       "      <td>3.6</td>\n",
       "      <td>1.4</td>\n",
       "      <td>0.2</td>\n",
       "      <td>Iris-setosa</td>\n",
       "    </tr>\n",
       "  </tbody>\n",
       "</table>\n",
       "</div>"
      ],
      "text/plain": [
       "   sepal_length  sepal_width  petal_length  petal_width      species\n",
       "0           5.1          3.5           1.4          0.2  Iris-setosa\n",
       "1           4.9          3.0           1.4          0.2  Iris-setosa\n",
       "2           4.7          3.2           1.3          0.2  Iris-setosa\n",
       "3           4.6          3.1           1.5          0.2  Iris-setosa\n",
       "4           5.0          3.6           1.4          0.2  Iris-setosa"
      ]
     },
     "execution_count": 3,
     "metadata": {},
     "output_type": "execute_result"
    }
   ],
   "source": [
    "#load the dataset into memory\n",
    "dataset = pd.read_csv(file_name,header=None,\\\n",
    "                      names=['sepal_length','sepal_width','petal_length','petal_width','species'])\n",
    "#check several examples of data\n",
    "dataset.head()"
   ]
  },
  {
   "cell_type": "markdown",
   "metadata": {},
   "source": [
    "<h1>Data preprocessing</h1>"
   ]
  },
  {
   "cell_type": "code",
   "execution_count": 4,
   "metadata": {
    "collapsed": true
   },
   "outputs": [],
   "source": [
    "#simple function to process the data.\n",
    "\"\"\"\n",
    "input:\n",
    "    data: iris dataset\n",
    "    num_features: 2 => select only petal width and petal width.\n",
    "                  4 => select all features\n",
    "    flower: 'Iris-setosa' => labels of Iris-setosa will be 1 and others will be 0\n",
    "            'Iris-virginica' => labels of Iris-virginica will be 1 and others will be 0\n",
    "            'None' => use one-hot encoding to represent the labels\n",
    "\n",
    "return:\n",
    "    x: normalized & shuffled data\n",
    "    y: labels\n",
    "\"\"\"\n",
    "def data_preprocessing(data,num_features,flower=None):\n",
    "    if num_features==2:\n",
    "        features = data.columns[2:4]\n",
    "    else:\n",
    "        features = data.columns[0:4]\n",
    "    labels = dataset.columns[4]\n",
    "    print(features)\n",
    "    print(labels)\n",
    "    #normalize the data\n",
    "    data_norm = pd.DataFrame(data)\n",
    "    for feature in features:\n",
    "        data[feature] = (data[feature]-data[feature].mean())/data[feature].std()\n",
    "\n",
    "    #shuffle the data\n",
    "    indices = data_norm.index.tolist()\n",
    "    indices = np.array(indices)\n",
    "    np.random.shuffle(indices)\n",
    "    x = data_norm.reindex(indices)[features]\n",
    "    y = data_norm.reindex(indices)[labels]\n",
    "    if flower=='Iris-setosa':\n",
    "        for i in range(len(y)):\n",
    "            y[i]=1 if y[i]=='Iris-setosa' else 0\n",
    "        y = y.values.reshape(len(y),1)\n",
    "    elif flower=='Iris-virginica':\n",
    "        for i in range(len(y)):\n",
    "            y[i]=1 if y[i]=='Iris-virginica' else 0\n",
    "        y = y.values.reshape(len(y),1)\n",
    "    else:\n",
    "        y = get_dummies(y)\n",
    "    return x,y"
   ]
  },
  {
   "cell_type": "markdown",
   "metadata": {},
   "source": [
    "<h1>Part a:"
   ]
  },
  {
   "cell_type": "code",
   "execution_count": 5,
   "metadata": {
    "collapsed": false
   },
   "outputs": [
    {
     "name": "stdout",
     "output_type": "stream",
     "text": [
      "Index(['petal_length', 'petal_width'], dtype='object')\n",
      "species\n",
      "(105, 1)\n"
     ]
    }
   ],
   "source": [
    "x_1,y_1 = data_preprocessing(dataset,2,flower='Iris-setosa')\n",
    "#generate traning and validation sets\n",
    "x_train_1, x_test_1, y_train_1, y_test_1 = train_test_split(x_1,y_1,test_size=0.3)\n",
    "print(y_train_1.shape)\n",
    "num_input_features = x_train_1.shape[1]"
   ]
  },
  {
   "cell_type": "markdown",
   "metadata": {},
   "source": [
    "<h2>Define hyper-parameters</h2>"
   ]
  },
  {
   "cell_type": "code",
   "execution_count": 6,
   "metadata": {
    "collapsed": false
   },
   "outputs": [],
   "source": [
    "#define number of training iterations\n",
    "NUM_ITER = 1000\n",
    "#define learning rate\n",
    "lr = 0.01"
   ]
  },
  {
   "cell_type": "markdown",
   "metadata": {},
   "source": [
    "<h2>Define Placeholder and Variables</h2>"
   ]
  },
  {
   "cell_type": "code",
   "execution_count": 7,
   "metadata": {
    "collapsed": false
   },
   "outputs": [],
   "source": [
    "tf.reset_default_graph()\n",
    "X = tf.placeholder(tf.float32,shape=[None,2],name='X')\n",
    "Y = tf.placeholder(tf.float32,shape=[None,1],name='Y')\n",
    "W = tf.Variable(tf.random_normal([2, 1]),name='W'),\n",
    "b = tf.Variable(tf.random_normal(shape=[1,1]),name='b')"
   ]
  },
  {
   "cell_type": "markdown",
   "metadata": {},
   "source": [
    "<h2>Define update rule and accuracy</h2>"
   ]
  },
  {
   "cell_type": "code",
   "execution_count": 8,
   "metadata": {
    "collapsed": false,
    "scrolled": false
   },
   "outputs": [],
   "source": [
    "def setosa_signle_perceptron(x):\n",
    "    W_reshaped = tf.reshape(W, [2,1])\n",
    "    out = tf.sigmoid(tf.add(tf.matmul(x,W_reshaped),b))\n",
    "    return out\n",
    "y_predicted = setosa_signle_perceptron(X)\n",
    "loss = tf.reduce_mean(-1*(Y*tf.log(y_predicted)+(1-Y)*tf.log(1-y_predicted)))\n",
    "optimizer = tf.train.GradientDescentOptimizer(learning_rate=lr).minimize(loss)\n",
    "correct_pred = tf.equal(tf.round(y_predicted),Y)\n",
    "accuracy = tf.reduce_mean(tf.cast(correct_pred,tf.float32),name='accuracy')"
   ]
  },
  {
   "cell_type": "markdown",
   "metadata": {},
   "source": [
    "<h2>Execute training</h2>"
   ]
  },
  {
   "cell_type": "code",
   "execution_count": 9,
   "metadata": {
    "collapsed": false,
    "scrolled": false
   },
   "outputs": [
    {
     "name": "stdout",
     "output_type": "stream",
     "text": [
      "step 0, Train Accuracy= 0.000\n",
      "step 0, Test Accuracy= 0.000\n",
      "step 100, Train Accuracy= 0.695\n",
      "step 100, Test Accuracy= 0.800\n",
      "step 200, Train Accuracy= 0.962\n",
      "step 200, Test Accuracy= 0.956\n",
      "step 300, Train Accuracy= 0.962\n",
      "step 300, Test Accuracy= 0.978\n",
      "step 400, Train Accuracy= 0.971\n",
      "step 400, Test Accuracy= 1.000\n",
      "step 500, Train Accuracy= 0.990\n",
      "step 500, Test Accuracy= 1.000\n",
      "step 600, Train Accuracy= 0.990\n",
      "step 600, Test Accuracy= 1.000\n",
      "step 700, Train Accuracy= 1.000\n",
      "step 700, Test Accuracy= 1.000\n",
      "step 800, Train Accuracy= 1.000\n",
      "step 800, Test Accuracy= 1.000\n",
      "step 900, Train Accuracy= 1.000\n",
      "step 900, Test Accuracy= 1.000\n",
      "Training finished!\n",
      "Testing ACcuracy: 1.0\n"
     ]
    }
   ],
   "source": [
    "init = tf.global_variables_initializer()\n",
    "test_accuracy = []\n",
    "train_accuracy = []\n",
    "with tf.Session() as sess:\n",
    "    sess.run(init)\n",
    "    for i in range(NUM_ITER):\n",
    "        #run optimization\n",
    "        sess.run(optimizer, feed_dict={X:x_train_1.values, Y:y_train_1})\n",
    "\n",
    "        acc_train = sess.run(accuracy,feed_dict={X:x_train_1.values, Y:y_train_1})\n",
    "        acc_test =  sess.run(accuracy,feed_dict={X:x_test_1.values, Y:y_test_1})\n",
    "        train_accuracy.append(acc_train)\n",
    "        test_accuracy.append(acc_test)\n",
    "        if i % 100 ==0:\n",
    "            print(\"step \"+str(i)+\", Train Accuracy= {:.3f}\".format(acc_train))\n",
    "            print(\"step \"+str(i)+\", Test Accuracy= {:.3f}\".format(acc_test))\n",
    "\n",
    "    print(\"Training finished!\")\n",
    "    print(\"Testing ACcuracy:\", sess.run(accuracy, feed_dict={X:x_test_1, Y:y_test_1}))\n",
    "    W_setosa = np.squeeze(sess.run(W))\n",
    "    b_setosa = np.squeeze(sess.run(b))"
   ]
  },
  {
   "cell_type": "markdown",
   "metadata": {},
   "source": [
    "<h2>Plot</h2>"
   ]
  },
  {
   "cell_type": "code",
   "execution_count": 10,
   "metadata": {
    "collapsed": false
   },
   "outputs": [
    {
     "data": {
      "image/png": "[encoded data removed]",
      "text/plain": [
       "<matplotlib.figure.Figure at 0x12dbe4d68>"
      ]
     },
     "metadata": {},
     "output_type": "display_data"
    },
    {
     "name": "stdout",
     "output_type": "stream",
     "text": [
      "(45, 2)\n",
      "[-1.70682152  1.50518904] [ 1.36142599 -2.62244267]\n"
     ]
    },
    {
     "data": {
      "image/png": "[encoded data removed]",
      "text/plain": [
       "<matplotlib.figure.Figure at 0x12e3bff28>"
      ]
     },
     "metadata": {},
     "output_type": "display_data"
    }
   ],
   "source": [
    "plt.plot(np.arange(NUM_ITER), train_accuracy)\n",
    "plt.plot(np.arange(NUM_ITER), test_accuracy)\n",
    "plt.xlabel('epoch')\n",
    "plt.ylabel('accuracy')\n",
    "plt.legend(['train', 'test'])\n",
    "plt.title('Part a: accuracy curve for Setosa')\n",
    "plt.show()\n",
    "x_test_values = x_test_1.values;\n",
    "print(x_test_values.shape)\n",
    "plot_x = np.array([np.min(x_test_values[:, 0] - 0.2), np.max(x_test_values[:, 1] - 0.2)])\n",
    "\n",
    "\n",
    "plot_y = 1 / W_setosa[1] * (-W_setosa[0] * plot_x - b_setosa)\n",
    "print(plot_x, plot_y)\n",
    "plt.scatter(x_1.values[:, 0], x_1.values[:, 1], c=np.squeeze(y_1), s=100, cmap='viridis')\n",
    "plt.plot(plot_x, plot_y, color='k', linewidth=2)\n",
    "plt.xlim([-1.7, 1.7]); \n",
    "plt.ylim([-1.7, 1.7]);\n",
    "plt.show()"
   ]
  },
  {
   "cell_type": "markdown",
   "metadata": {},
   "source": [
    "<h1>Part b:</h1>"
   ]
  },
  {
   "cell_type": "code",
   "execution_count": 11,
   "metadata": {
    "collapsed": false
   },
   "outputs": [
    {
     "name": "stdout",
     "output_type": "stream",
     "text": [
      "Index(['petal_length', 'petal_width'], dtype='object')\n",
      "species\n"
     ]
    }
   ],
   "source": [
    "x_2,y_2 = data_preprocessing(dataset,2,flower='Iris-virginica')\n",
    "#generate traning and validation sets\n",
    "x_train_2, x_test_2, y_train_2, y_test_2 = train_test_split(x_2,y_2,test_size=0.3)"
   ]
  },
  {
   "cell_type": "markdown",
   "metadata": {},
   "source": [
    "<h2>Define hyper-parameter</h2>"
   ]
  },
  {
   "cell_type": "code",
   "execution_count": 12,
   "metadata": {
    "collapsed": false
   },
   "outputs": [],
   "source": [
    "#define number of training iterations\n",
    "NUM_ITER = 500\n",
    "#define learning rate\n",
    "lr = 0.01"
   ]
  },
  {
   "cell_type": "markdown",
   "metadata": {},
   "source": [
    "<h2>Define Placeholder and Variables</h2>"
   ]
  },
  {
   "cell_type": "code",
   "execution_count": 13,
   "metadata": {
    "collapsed": true
   },
   "outputs": [],
   "source": [
    "# tf.reset_default_graph()"
   ]
  },
  {
   "cell_type": "markdown",
   "metadata": {},
   "source": [
    "<h2>Define update rule and accuracy</h2>"
   ]
  },
  {
   "cell_type": "code",
   "execution_count": 14,
   "metadata": {
    "collapsed": false
   },
   "outputs": [],
   "source": [
    "# Same as Part a. no change"
   ]
  },
  {
   "cell_type": "markdown",
   "metadata": {},
   "source": [
    "<h2>Execute training</h2>"
   ]
  },
  {
   "cell_type": "code",
   "execution_count": 15,
   "metadata": {
    "collapsed": false
   },
   "outputs": [
    {
     "name": "stdout",
     "output_type": "stream",
     "text": [
      "step 0, Train Accuracy= 0.686\n",
      "step 0, Test Accuracy= 0.622\n",
      "step 100, Train Accuracy= 0.752\n",
      "step 100, Test Accuracy= 0.689\n",
      "step 200, Train Accuracy= 0.914\n",
      "step 200, Test Accuracy= 0.822\n",
      "step 300, Train Accuracy= 0.981\n",
      "step 300, Test Accuracy= 0.911\n",
      "step 400, Train Accuracy= 0.981\n",
      "step 400, Test Accuracy= 0.933\n",
      "Training finished!\n",
      "Testing ACcuracy: 0.9809524\n"
     ]
    }
   ],
   "source": [
    "init = tf.global_variables_initializer()\n",
    "test_accuracy = []\n",
    "train_accuracy = []\n",
    "with tf.Session() as sess:\n",
    "    sess.run(init)\n",
    "    for i in range(NUM_ITER):\n",
    "        #run optimization\n",
    "        sess.run(optimizer, feed_dict={X:x_train_2.values, Y:y_train_2})\n",
    "\n",
    "        acc_train = sess.run(accuracy,feed_dict={X:x_train_2.values, Y:y_train_2})\n",
    "        acc_test =  sess.run(accuracy,feed_dict={X:x_test_2.values, Y:y_test_2})\n",
    "        train_accuracy.append(acc_train)\n",
    "        test_accuracy.append(acc_test)\n",
    "        if i % 100 ==0:\n",
    "            print(\"step \"+str(i)+\", Train Accuracy= {:.3f}\".format(acc_train))\n",
    "            print(\"step \"+str(i)+\", Test Accuracy= {:.3f}\".format(acc_test))\n",
    "\n",
    "    print(\"Training finished!\")\n",
    "    print(\"Testing ACcuracy:\", sess.run(accuracy, feed_dict={X:x_train_2, Y:y_train_2}))\n",
    "    W_viginia = np.squeeze(sess.run(W))\n",
    "    b_viginia = np.squeeze(sess.run(b))"
   ]
  },
  {
   "cell_type": "markdown",
   "metadata": {},
   "source": [
    "<h2>Plot</h2>"
   ]
  },
  {
   "cell_type": "code",
   "execution_count": 16,
   "metadata": {
    "collapsed": false
   },
   "outputs": [
    {
     "data": {
      "image/png": "[encoded data removed]",
      "text/plain": [
       "<matplotlib.figure.Figure at 0x12dbe4c88>"
      ]
     },
     "metadata": {},
     "output_type": "display_data"
    },
    {
     "name": "stdout",
     "output_type": "stream",
     "text": [
      "(45, 2)\n",
      "[-1.70682152  1.50518904] [1.04265052 0.35923538]\n"
     ]
    },
    {
     "data": {
      "image/png": "[encoded data removed]",
      "text/plain": [
       "<matplotlib.figure.Figure at 0x12e4d8da0>"
      ]
     },
     "metadata": {},
     "output_type": "display_data"
    }
   ],
   "source": [
    "plt.plot(np.arange(NUM_ITER), train_accuracy)\n",
    "plt.plot(np.arange(NUM_ITER), test_accuracy)\n",
    "plt.xlabel('epoch')\n",
    "plt.ylabel('accuracy')\n",
    "plt.legend(['train', 'test'])\n",
    "plt.title('Part b: accuracy curve for Viginia')\n",
    "plt.show()\n",
    "x_test_values = x_test_1.values;\n",
    "print(x_test_values.shape)\n",
    "plot_x = np.array([np.min(x_test_values[:, 0] - 0.2), np.max(x_test_values[:, 1] - 0.2)])\n",
    "\n",
    "\n",
    "plot_y = 1 / W_viginia[1] * (-W_viginia[0] * plot_x - b_viginia)\n",
    "print(plot_x, plot_y)\n",
    "plt.scatter(x_2.values[:, 0], x_2.values[:, 1], c=np.squeeze(y_2), s=100, cmap='viridis')\n",
    "plt.plot(plot_x, plot_y, color='k', linewidth=2)\n",
    "plt.xlim([-1.7, 1.7]); \n",
    "plt.ylim([-1.7, 1.7]);\n",
    "plt.show()"
   ]
  },
  {
   "cell_type": "markdown",
   "metadata": {},
   "source": [
    "<h1>Part c:</h1>"
   ]
  },
  {
   "cell_type": "code",
   "execution_count": 17,
   "metadata": {
    "collapsed": false
   },
   "outputs": [
    {
     "name": "stdout",
     "output_type": "stream",
     "text": [
      "Index(['sepal_length', 'sepal_width', 'petal_length', 'petal_width'], dtype='object')\n",
      "species\n"
     ]
    }
   ],
   "source": [
    "x_3,y_3 = data_preprocessing(dataset,4)\n",
    "#generate traning and validation sets\n",
    "x_train_3, x_test_3, y_train_3, y_test_3 = train_test_split(x_3,y_3,test_size=0.3)"
   ]
  },
  {
   "cell_type": "markdown",
   "metadata": {},
   "source": [
    "<h2>Define hyper-parameters</h2>"
   ]
  },
  {
   "cell_type": "code",
   "execution_count": 18,
   "metadata": {
    "collapsed": false
   },
   "outputs": [],
   "source": [
    "#learning rate\n",
    "lr = 0.01\n",
    "#number of traning steps\n",
    "num_steps =1000\n",
    "#number of batch_size\n",
    "batch_size = 128\n",
    "\n",
    "#network parameters\n",
    "n_hidden_1 = 256\n",
    "n_hidden_2 = 238\n",
    "num_input_features = x_train_3.values.shape[1]\n",
    "num_classes = 3"
   ]
  },
  {
   "cell_type": "markdown",
   "metadata": {},
   "source": [
    "<h2>Define placehoder and variables</h2>"
   ]
  },
  {
   "cell_type": "code",
   "execution_count": 19,
   "metadata": {
    "collapsed": false
   },
   "outputs": [],
   "source": [
    "tf.reset_default_graph()\n",
    "#tf graph input\n",
    "X = tf.placeholder(tf.float32,[None,num_input_features],name='X')\n",
    "Y = tf.placeholder(tf.int32,[None,num_classes],name='Y')\n",
    "\n",
    "#Layers weight & bias\n",
    "weights = {\n",
    "    'W1': tf.Variable(tf.random_normal([num_input_features, n_hidden_1]),name='W1'),\n",
    "    'W2': tf.Variable(tf.random_normal([n_hidden_1, n_hidden_2]),name='W2'),\n",
    "    'Wout': tf.Variable(tf.random_normal([n_hidden_2, num_classes]),name='Wout')\n",
    "}\n",
    "\n",
    "biases = {\n",
    "    'b1': tf.Variable(tf.zeros(shape=[n_hidden_1]),name='b1'),\n",
    "    'b2': tf.Variable(tf.zeros(shape=[n_hidden_2]),name='b2'),\n",
    "    'bout': tf.Variable(tf.zeros(shape=[num_classes]),name='bout')\n",
    "}\n",
    "#define a neural net model"
   ]
  },
  {
   "cell_type": "markdown",
   "metadata": {},
   "source": [
    "<h2>Define the neural network</h2>"
   ]
  },
  {
   "cell_type": "code",
   "execution_count": 20,
   "metadata": {
    "collapsed": true
   },
   "outputs": [],
   "source": [
    "def iris_neural_net(x):\n",
    "    layer_1_out = tf.nn.relu(tf.add(tf.matmul(x,weights['W1']),biases['b1']))\n",
    "    layer_2_out = tf.nn.relu(tf.add(tf.matmul(layer_1_out,weights['W2']),biases['b2']))\n",
    "    out = tf.add(tf.matmul(layer_2_out,weights['Wout']),biases['bout'])\n",
    "    return out"
   ]
  },
  {
   "cell_type": "markdown",
   "metadata": {},
   "source": [
    "<h2>Define cost function and accuracy</h2>"
   ]
  },
  {
   "cell_type": "code",
   "execution_count": 21,
   "metadata": {
    "collapsed": true
   },
   "outputs": [],
   "source": [
    "#predicted labels\n",
    "logits = iris_neural_net(X)\n",
    "\n",
    "#define loss\n",
    "loss = tf.reduce_mean(tf.nn.softmax_cross_entropy_with_logits_v2(logits=logits,labels=Y),name='loss')\n",
    "#define optimizer\n",
    "optimizer = tf.train.GradientDescentOptimizer(learning_rate=lr)\n",
    "train_op = optimizer.minimize(loss)\n",
    "\n",
    "#compare the predicted labels with true labels\n",
    "correct_pred = tf.equal(tf.argmax(logits,1),tf.argmax(Y,1))\n",
    "\n",
    "#compute the accuracy by taking average\n",
    "accuracy = tf.reduce_mean(tf.cast(correct_pred,tf.float32),name='accuracy')\n",
    "\n",
    "#Initialize the variables\n",
    "init = tf.global_variables_initializer()"
   ]
  },
  {
   "cell_type": "markdown",
   "metadata": {},
   "source": [
    "<h2>Execute training</h2>"
   ]
  },
  {
   "cell_type": "code",
   "execution_count": 22,
   "metadata": {
    "collapsed": false,
    "scrolled": false
   },
   "outputs": [
    {
     "name": "stdout",
     "output_type": "stream",
     "text": [
      "step 0, Train Accuracy= 0.676\n",
      "step 0, Test Accuracy= 0.578\n",
      "step 100, Train Accuracy= 1.000\n",
      "step 100, Test Accuracy= 0.889\n",
      "step 200, Train Accuracy= 1.000\n",
      "step 200, Test Accuracy= 0.889\n",
      "step 300, Train Accuracy= 1.000\n",
      "step 300, Test Accuracy= 0.889\n",
      "step 400, Train Accuracy= 1.000\n",
      "step 400, Test Accuracy= 0.889\n",
      "step 500, Train Accuracy= 1.000\n",
      "step 500, Test Accuracy= 0.889\n",
      "step 600, Train Accuracy= 1.000\n",
      "step 600, Test Accuracy= 0.889\n",
      "step 700, Train Accuracy= 1.000\n",
      "step 700, Test Accuracy= 0.889\n",
      "step 800, Train Accuracy= 1.000\n",
      "step 800, Test Accuracy= 0.889\n",
      "step 900, Train Accuracy= 1.000\n",
      "step 900, Test Accuracy= 0.889\n",
      "Training finished!\n",
      "Testing ACcuracy: 1.0\n"
     ]
    }
   ],
   "source": [
    "train_accuracy, test_accuracy = [],[]\n",
    "with tf.Session() as sess:\n",
    "    sess.run(init)\n",
    "    \n",
    "    for i in range(num_steps):\n",
    "        #run optimization\n",
    "        sess.run(train_op, feed_dict={X:x_train_3.values, Y:y_train_3})\n",
    "       \n",
    "        acc_train = sess.run(accuracy,feed_dict={X:x_train_3.values, Y:y_train_3.values})\n",
    "        acc_test =  sess.run(accuracy,feed_dict={X:x_test_3.values, Y:y_test_3.values})\n",
    "        train_accuracy.append(acc_train)\n",
    "        test_accuracy.append(acc_test)\n",
    "        if i % 100 ==0:\n",
    "            print(\"step \"+str(i)+\", Train Accuracy= {:.3f}\".format(acc_train))\n",
    "            print(\"step \"+str(i)+\", Test Accuracy= {:.3f}\".format(acc_test))\n",
    "\n",
    "    print(\"Training finished!\")\n",
    "    print(\"Testing ACcuracy:\", sess.run(accuracy, feed_dict={X:x_train_3, Y:y_train_3}))\n",
    "    "
   ]
  },
  {
   "cell_type": "markdown",
   "metadata": {},
   "source": [
    "<h2>Plot</h2>"
   ]
  },
  {
   "cell_type": "code",
   "execution_count": 23,
   "metadata": {
    "collapsed": false
   },
   "outputs": [
    {
     "data": {
      "image/png": "[encoded data removed]",
      "text/plain": [
       "<matplotlib.figure.Figure at 0x12f177940>"
      ]
     },
     "metadata": {},
     "output_type": "display_data"
    }
   ],
   "source": [
    "plt.plot(np.arange(num_steps), train_accuracy)\n",
    "plt.plot(np.arange(num_steps), test_accuracy)\n",
    "plt.xlabel('epoch')\n",
    "plt.ylabel('accuracy')\n",
    "plt.legend(['train', 'test'])\n",
    "plt.title('Part c: accuracy curve w/ nn with 2 hidden layer')\n",
    "plt.show()"
   ]
  },
  {
   "cell_type": "code",
   "execution_count": null,
   "metadata": {
    "collapsed": true
   },
   "outputs": [],
   "source": []
  }
 ],
 "metadata": {
  "kernelspec": {
   "display_name": "Python 3",
   "language": "python",
   "name": "python3"
  },
  "language_info": {
   "codemirror_mode": {
    "name": "ipython",
    "version": 3
   },
   "file_extension": ".py",
   "mimetype": "text/x-python",
   "name": "python",
   "nbconvert_exporter": "python",
   "pygments_lexer": "ipython3",
   "version": "3.4.5"
  }
 },
 "nbformat": 4,
 "nbformat_minor": 2
}
