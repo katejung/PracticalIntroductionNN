{
 "cells": [
  {
   "cell_type": "code",
   "execution_count": null,
   "metadata": {},
   "outputs": [],
   "source": [
    "from IPython.core.display import display, HTML\n",
    "display(HTML(\"<style>.container { width:100% !important; }</style>\"))"
   ]
  },
  {
   "cell_type": "markdown",
   "metadata": {},
   "source": [
    "# Network Visualization (TensorFlow)\n",
    "\n",
    "In this notebook we will explore the use of *image gradients* for generating new images.\n",
    "\n",
    "When training a model, we define a loss function which measures our current unhappiness with the model's performance; we then use backpropagation to compute the gradient of the loss with respect to the model parameters, and perform gradient descent on the model parameters to minimize the loss.\n",
    "\n",
    "Here we will do something slightly different. We will start from a convolutional neural network model which has been pretrained to perform image classification on the ImageNet dataset. We will use this model to define a loss function which quantifies our current unhappiness with our image, then use backpropagation to compute the gradient of this loss with respect to the pixels of the image. We will then keep the model fixed, and perform gradient descent *on the image* to synthesize a new image which minimizes the loss.\n",
    "\n",
    "In this notebook we will explore three techniques for image generation:\n",
    "\n",
    "1. **Saliency Maps**: Saliency maps are a quick way to tell which part of the image influenced the classification decision made by the network.\n",
    "2. **Fooling Images**: We can perturb an input image so that it appears the same to humans, but will be misclassified by the pretrained network.\n",
    "3. **Class Visualization**: We can synthesize an image to maximize the classification score of a particular class; this can give us some sense of what the network is looking for when it classifies images of that class."
   ]
  },
  {
   "cell_type": "code",
   "execution_count": null,
   "metadata": {},
   "outputs": [],
   "source": [
    "import tensorflow as tf\n",
    "import vgg\n",
    "slim = tf.contrib.slim\n",
    "import matplotlib.pyplot as plt\n",
    "from data_utils import load_imagenet_val\n",
    "import numpy as np\n",
    "from image_utils import preprocess_image, deprocess_image, VGG_MEAN\n",
    "\n",
    "%matplotlib inline\n",
    "plt.rcParams['figure.figsize'] = (15.0, 12.0) # set default size of plots\n",
    "plt.rcParams['image.interpolation'] = 'nearest'\n",
    "plt.rcParams['image.cmap'] = 'gray'\n",
    "\n",
    "def get_session():\n",
    "    \"\"\"Create a session that dynamically allocates memory.\"\"\"\n",
    "    # See: https://www.tensorflow.org/tutorials/using_gpu#allowing_gpu_memory_growth\n",
    "    config = tf.ConfigProto()\n",
    "    config.gpu_options.allow_growth = True\n",
    "    session = tf.Session(config=config)\n",
    "    return session"
   ]
  },
  {
   "cell_type": "markdown",
   "metadata": {},
   "source": [
    "## Load some ImageNet images\n",
    "We have provided a few example images from the validation set of the ImageNet ILSVRC 2012 Classification dataset.\n",
    "\n",
    "Since they come from the validation set, our pretrained model did not see these images during training.\n",
    "\n",
    "Run the following cell to visualize some of these images, along with their ground-truth labels."
   ]
  },
  {
   "cell_type": "code",
   "execution_count": null,
   "metadata": {},
   "outputs": [],
   "source": [
    "x_raw, y, class_names = load_imagenet_val(num=5)\n",
    "plt.figure(figsize=(12, 6))\n",
    "for i in range(5):\n",
    "    plt.subplot(1, 5, i + 1)\n",
    "    plt.imshow(x_raw[i])\n",
    "    plt.title(class_names[y[i]])\n",
    "    plt.axis('off')\n",
    "plt.gcf().tight_layout()"
   ]
  },
  {
   "cell_type": "markdown",
   "metadata": {},
   "source": [
    "## Preprocess images\n",
    "The input to the pretrained VGG-16 model is expected to be subtracted the pixelwise mean."
   ]
  },
  {
   "cell_type": "code",
   "execution_count": null,
   "metadata": {},
   "outputs": [],
   "source": [
    "x = np.array([preprocess_image(img) for img in x_raw])"
   ]
  },
  {
   "cell_type": "markdown",
   "metadata": {},
   "source": [
    "# Pretrained Model\n",
    "\n",
    "For all of our image generation experiments, we will start with a convolutional neural network which was pretrained to perform image classification on ImageNet. We can use any model here, but for the purposes of this assignment we will use VGG-16.\n",
    "\n",
    "The TensorFlow has a lot of pre-trained models available in https://github.com/tensorflow/models/tree/master/research/slim.\n",
    "\n",
    "We have include the tf.slim VGG model in Github HW3 folder and you can see: `vgg.py` for the model architecture. We strongly recommend you check it out before running the following cells.\n",
    "\n",
    "To use VGG-16, you will need to first **download the weights** by downloading `vgg_16_2016_08_28.tar.gz`. Once you unzip it, you will have the `vgg_16.ckpt` that includes all the learned parameters.\n",
    "\n",
    "Once you've downloaded the model and weights, you can run the following cell to load the model in TensorFlow."
   ]
  },
  {
   "cell_type": "code",
   "execution_count": null,
   "metadata": {},
   "outputs": [],
   "source": [
    "tf.reset_default_graph()\n",
    "#number of classes for ImageNet\n",
    "NUM_CLASSES = 1000\n",
    "\n",
    "#Define input data as X\n",
    "X = tf.placeholder(dtype=tf.float32,shape=[None,224,224,3])\n",
    "#Define target label as Y\n",
    "Y = tf.placeholder(dtype=tf.int32,shape=[None])\n",
    "\n",
    "#initialize vgg-16 model\n",
    "#scores: the output of last layer\n",
    "#end_points: include all layers outputs\n",
    "scores, end_points = vgg.vgg_16(inputs=X,num_classes=1000,is_training=False,spatial_squeeze=True,dropout_keep_prob=1.)\n",
    "\n",
    "#the loss function\n",
    "loss = tf.reduce_mean(tf.nn.softmax_cross_entropy_with_logits_v2(labels=tf.one_hot(Y, NUM_CLASSES), logits=scores))\n",
    "\n",
    "#get the variables (weights, biases) to restore\n",
    "variables_to_restore = slim.get_variables_to_restore()\n",
    "\n",
    "#define the saver\n",
    "saver = tf.train.Saver(variables_to_restore)"
   ]
  },
  {
   "cell_type": "markdown",
   "metadata": {},
   "source": [
    "## Graph in Tensorboard\n",
    "You can visaulize the architecture of VGG-16 by running the following cell."
   ]
  },
  {
   "cell_type": "code",
   "execution_count": null,
   "metadata": {
    "scrolled": true
   },
   "outputs": [],
   "source": [
    "from tensorflow_graph_in_jupyter import show_graph\n",
    "show_graph(tf.get_default_graph())"
   ]
  },
  {
   "cell_type": "markdown",
   "metadata": {},
   "source": [
    "## Restore the variables"
   ]
  },
  {
   "cell_type": "code",
   "execution_count": null,
   "metadata": {},
   "outputs": [],
   "source": [
    "#create the session\n",
    "sess = get_session()\n",
    "#restore the variables\n",
    "saver.restore(sess,\"vgg_16.ckpt\")"
   ]
  },
  {
   "cell_type": "markdown",
   "metadata": {},
   "source": [
    "# Part a: Visualize feature maps\n",
    "This is a warm up step that helps you to understand the architecture of VGG-16 and also explore the feature maps in different layers of CNN. Given the images `x` we defined above, using the pretrained VGG-16 model to get all their feature maps. use `plt.imshow()` to plot out the first and last feature map of `conv1/conv1_1` and `conv1/conv1_2` for all five images.\n",
    "\n",
    "Hint:the `end_points` is an ordered-dictionary."
   ]
  },
  {
   "cell_type": "code",
   "execution_count": null,
   "metadata": {},
   "outputs": [],
   "source": [
    "####### START YOUR CODE ######\n",
    "\n",
    "\n",
    "###### END OF YOUR CODE ######"
   ]
  },
  {
   "cell_type": "markdown",
   "metadata": {},
   "source": [
    "# Part b: Saliency Maps\n",
    "Using this pretrained model, we will compute class saliency maps as described in Section 3.1 of [1].\n",
    "\n",
    "A **saliency map** tells us the degree to which each pixel in the image affects the classification score for that image. To compute it, we compute the gradient of the unnormalized score corresponding to the correct class (which is a scalar) with respect to the pixels of the image. If the image has shape `(H, W, 3)` then this gradient will also have shape `(H, W, 3)`; for each pixel in the image, this gradient tells us the amount by which the classification score will change if the pixel changes by a small amount. To compute the saliency map, we take the absolute value of this gradient, then take the maximum value over the 3 input channels; the final saliency map thus has shape `(H, W)` and all entries are nonnegative.\n",
    "\n",
    "You will need to use the `scores` Tensor containing the scores for each input, and will need to feed in values for the `image (X)` and `labels (Y)` placeholder when evaluating the gradient. \n",
    "\n",
    "[1] Karen Simonyan, Andrea Vedaldi, and Andrew Zisserman. \"Deep Inside Convolutional Networks: Visualising\n",
    "Image Classification Models and Saliency Maps\", ICLR Workshop 2014."
   ]
  },
  {
   "cell_type": "code",
   "execution_count": null,
   "metadata": {},
   "outputs": [],
   "source": [
    "def compute_saliency_maps(x, y, X, Y, scores, loss):\n",
    "    \"\"\"\n",
    "    Compute a class saliency map using the model for images x and labels y.\n",
    "\n",
    "    Input:\n",
    "    - x: Input images, numpy array of shape (N, H, W, 3)\n",
    "    - y: Labels for x, numpy of shape (N,)\n",
    "    - X: images placeholder\n",
    "    - Y: labels placeholder\n",
    "    - scores: the scores for input image\n",
    "    - loss: the loss function\n",
    "    \n",
    "    Returns:\n",
    "    - saliency: A numpy array of shape (N, H, W) giving the saliency maps for the\n",
    "    input images.\n",
    "    \"\"\"\n",
    "    saliency = None\n",
    "    # Compute the score of the correct class for each example.\n",
    "    # This gives a Tensor with shape [N], the number of examples.\n",
    "    #\n",
    "    # Note: this is equivalent to scores[np.arange(N), y] we used in NumPy\n",
    "    # for computing vectorized losses.\n",
    "    correct_scores = tf.gather_nd(scores,\n",
    "                                  tf.stack((tf.range(x.shape[0]), Y), axis=1))\n",
    "    ###############################################################################\n",
    "    # TODO: Produce the saliency maps over a batch of images.                     #\n",
    "    #                                                                             #\n",
    "    # 1) Use tf.gradients to compute the gradient of the loss with respect        #\n",
    "    #    to the image (accessible via model.image).                               #\n",
    "    # 2) Compute the actual value of the gradient by a call to sess.run().        #\n",
    "    #    You will need to feed in values for the placeholders X and Y.            #\n",
    "    # 3) Finally, process the returned gradient to compute the saliency map.      #\n",
    "    ###############################################################################\n",
    "    \n",
    "    \n",
    "    ##############################################################################\n",
    "    #                             END OF YOUR CODE                               #\n",
    "    ##############################################################################\n",
    "    return saliency"
   ]
  },
  {
   "cell_type": "markdown",
   "metadata": {},
   "source": [
    "Once you have completed the implementation in the cell above, run the following to visualize some class saliency maps on our example images from the ImageNet validation set:"
   ]
  },
  {
   "cell_type": "code",
   "execution_count": null,
   "metadata": {},
   "outputs": [],
   "source": [
    "def show_saliency_maps(x, y, X, Y, mask, scores, loss):\n",
    "    mask = np.asarray(mask)\n",
    "    xm = x[mask]\n",
    "    ym = y[mask]\n",
    "\n",
    "    saliency = compute_saliency_maps(xm,ym,X,Y,scores,loss)\n",
    "\n",
    "    for i in range(mask.size):\n",
    "        plt.subplot(2, mask.size, i + 1)\n",
    "        plt.imshow(deprocess_image(xm[i]))\n",
    "        plt.axis('off')\n",
    "        plt.title(class_names[ym[i]])\n",
    "        plt.subplot(2, mask.size, mask.size + i + 1)\n",
    "        plt.title(mask[i])\n",
    "        plt.imshow(saliency[i], cmap=plt.cm.hot)\n",
    "        plt.axis('off')\n",
    "        plt.gcf().set_size_inches(15, 4)\n",
    "    plt.show()\n",
    "\n",
    "mask = np.arange(5)\n",
    "show_saliency_maps(x, y, X,Y, mask,scores,loss)"
   ]
  },
  {
   "cell_type": "markdown",
   "metadata": {},
   "source": [
    "# Part c: Fooling Images\n",
    "We can also use image gradients to generate \"fooling images\" as discussed in [2]. Given an image and a target class, we can perform gradient **ascent** over the image to maximize the target class, stopping when the network classifies the image as the target class. Implement the following function to generate fooling images.\n",
    "\n",
    "[2] Szegedy et al, \"Intriguing properties of neural networks\", ICLR 2014"
   ]
  },
  {
   "cell_type": "code",
   "execution_count": null,
   "metadata": {},
   "outputs": [],
   "source": [
    "def make_fooling_image(x, target_y,X,Y,scores):\n",
    "    \"\"\"\n",
    "    Generate a fooling image that is close to x, but that the model classifies\n",
    "    as target_y.\n",
    "\n",
    "    Inputs:\n",
    "    - x: Input image, a numpy array of shape (1, 224, 224, 3)\n",
    "    - target_y: An integer in the range [0, 1000)\n",
    "    - X: input image placeholder\n",
    "    - Y: target label placeholder\n",
    "    - scores: the score for input image\n",
    "\n",
    "    Returns:\n",
    "    - x_fooling: An image that is close to x, but that is classifed as target_y\n",
    "    by the model.\n",
    "    \"\"\"\n",
    "    \n",
    "    # Make a copy of the input that we will modify\n",
    "    x_fooling = x.copy()\n",
    "    \n",
    "    # Step size for the update, feel free to change\n",
    "    learning_rate = 2\n",
    "    \n",
    "    ##############################################################################\n",
    "    # TODO: Generate a fooling image X_fooling that the model will classify as   #\n",
    "    # the class target_y. Use gradient *ascent* on the target class score, using #\n",
    "    # the scores Tensor to get the class scores for the image placeholder(X).    #\n",
    "    # When computing an update step, first normalize the gradient:               #\n",
    "    #   dX = learning_rate * gradient / ||gradient||_2                           #\n",
    "    #                                                                            #\n",
    "    # You should write a training loop, where in each iteration, you make an     #\n",
    "    # update to the input image x_fooling (don't modify x). The loop should      #\n",
    "    # stop when the predicted class for the input is the same as target_y.       #\n",
    "    #                                                                            #\n",
    "    # HINT: It's good practice to define your TensorFlow graph operations        #\n",
    "    # outside the loop, and then just make sess.run() calls in each iteration.   #\n",
    "    #                                                                            #\n",
    "    # HINT 2: For most examples, you should be able to generate a fooling image  #\n",
    "    # in fewer than 400 iterations of gradient ascent. You can print your        #\n",
    "    # progress over iterations to check your algorithm.                          #\n",
    "    ##############################################################################\n",
    "    \n",
    "        \n",
    "        \n",
    "    ##############################################################################\n",
    "    #                             END OF YOUR CODE                               #\n",
    "    ##############################################################################\n",
    "    return x_fooling"
   ]
  },
  {
   "cell_type": "markdown",
   "metadata": {},
   "source": [
    "Run the following to generate a fooling image. You should ideally see at first glance no major difference between the original and fooling images, and the network should now make an incorrect prediction on the fooling one. However you should see a bit of random noise if you look at the 10x magnified difference between the original and fooling images. Feel free to change the `idx` variable to explore other images."
   ]
  },
  {
   "cell_type": "code",
   "execution_count": null,
   "metadata": {},
   "outputs": [],
   "source": [
    "idx = 3\n",
    "xi = x[idx][None]\n",
    "target_y = 6\n",
    "x_fooling = make_fooling_image(xi, target_y, X,Y, scores)\n",
    "\n",
    "# Make sure that X_fooling is classified as y_target\n",
    "scores_ = sess.run(scores, {X: x_fooling})\n",
    "assert scores_[0].argmax() == target_y, 'The network is not fooled!'\n",
    "\n",
    "# Show original image, fooling image, and difference\n",
    "orig_img = deprocess_image(xi[0])\n",
    "fool_img = deprocess_image(x_fooling[0])\n",
    "# Rescale \n",
    "plt.subplot(1, 4, 1)\n",
    "plt.imshow(orig_img)\n",
    "plt.axis('off')\n",
    "plt.title(class_names[y[idx]])\n",
    "plt.subplot(1, 4, 2)\n",
    "plt.imshow(fool_img)\n",
    "plt.title(class_names[target_y])\n",
    "plt.axis('off')\n",
    "plt.subplot(1, 4, 3)\n",
    "plt.title('Difference')\n",
    "plt.imshow(deprocess_image((xi-x_fooling)[0]))\n",
    "plt.axis('off')\n",
    "plt.subplot(1, 4, 4)\n",
    "plt.title('Magnified difference (10x)')\n",
    "plt.imshow(deprocess_image(10 * (xi-x_fooling)[0]))\n",
    "plt.axis('off')\n",
    "plt.gcf().set_size_inches(10, 8)"
   ]
  },
  {
   "cell_type": "markdown",
   "metadata": {},
   "source": [
    "# Part d: Class visualization\n",
    "By starting with a random noise image and performing gradient ascent on a target class, we can generate an image that the network will recognize as the target class. This idea was first presented in [1]; [2] extended this idea by suggesting several regularization techniques that can improve the quality of the generated image.\n",
    "\n",
    "Concretely, let $I$ be an image and let $y$ be a target class. Let $s_y(I)$ be the score that a convolutional network assigns to the image $I$ for class $y$; note that these are raw unnormalized scores, not class probabilities. We wish to generate an image $I^*$ that achieves a high score for the class $y$ by solving the problem\n",
    "\n",
    "$$\n",
    "I^* = {\\arg\\max}_I (s_y(I) - R(I))\n",
    "$$\n",
    "\n",
    "where $R$ is a (possibly implicit) regularizer (note the sign of $R(I)$ in the argmax: we want to minimize this regularization term). We can solve this optimization problem using gradient ascent, computing gradients with respect to the generated image. We will use (explicit) L2 regularization of the form\n",
    "\n",
    "$$\n",
    "R(I) = \\lambda \\|I\\|_2^2\n",
    "$$\n",
    "\n",
    "**and** implicit regularization as suggested by [2] by periodically blurring the generated image. We can solve this problem using gradient ascent on the generated image.\n",
    "\n",
    "In the cell below, complete the implementation of the `create_class_visualization` function.\n",
    "\n",
    "[1] Karen Simonyan, Andrea Vedaldi, and Andrew Zisserman. \"Deep Inside Convolutional Networks: Visualising\n",
    "Image Classification Models and Saliency Maps\", ICLR Workshop 2014.\n",
    "\n",
    "[2] Yosinski et al, \"Understanding Neural Networks Through Deep Visualization\", ICML 2015 Deep Learning Workshop"
   ]
  },
  {
   "cell_type": "code",
   "execution_count": null,
   "metadata": {},
   "outputs": [],
   "source": [
    "from scipy.ndimage.filters import gaussian_filter1d\n",
    "def blur_image(x, sigma=1):\n",
    "    x = gaussian_filter1d(x, sigma, axis=1)\n",
    "    x = gaussian_filter1d(x, sigma, axis=2)\n",
    "    return x"
   ]
  },
  {
   "cell_type": "code",
   "execution_count": null,
   "metadata": {},
   "outputs": [],
   "source": [
    "def create_class_visualization(target_y, X,Y,scores, **kwargs):\n",
    "    \"\"\"\n",
    "    Generate an image to maximize the score of target_y under a pretrained model.\n",
    "    \n",
    "    Inputs:\n",
    "    - target_y: Integer in the range [0, 1000) giving the index of the class\n",
    "    - X: image placeholder\n",
    "    - Y: target label placeholder\n",
    "    - scores: the score for your image\n",
    "    \n",
    "    Keyword arguments:(feel free to change any values that fit with you)\n",
    "    - l2_reg: Strength of L2 regularization on the image\n",
    "    - learning_rate: How big of a step to take\n",
    "    - num_iterations: How many iterations to use\n",
    "    - blur_every: How often to blur the image as an implicit regularizer\n",
    "    - max_jitter: How much to gjitter the image as an implicit regularizer\n",
    "    - show_every: How often to show the intermediate result\n",
    "    \"\"\"\n",
    "    l2_reg = kwargs.pop('l2_reg', 1e-6)\n",
    "    learning_rate = kwargs.pop('learning_rate', 1500)\n",
    "    num_iterations = kwargs.pop('num_iterations', 500)\n",
    "    blur_every = kwargs.pop('blur_every', 100)\n",
    "    max_jitter = kwargs.pop('max_jitter', 16)\n",
    "    show_every = kwargs.pop('show_every', 100)\n",
    "    \n",
    "    # We use a single image of random noise as a starting point\n",
    "    x = 255 * np.random.rand(224, 224, 3)\n",
    "    x = preprocess_image(x)[None]\n",
    "    \n",
    "    ########################################################################\n",
    "    # TODO: Compute the loss and the gradient of the loss with respect to  #\n",
    "    # the input image, model.image. We compute these outside the loop so   #\n",
    "    # that we don't have to recompute the gradient graph at each iteration #\n",
    "    #                                                                      #\n",
    "    # Note: loss and grad should be TensorFlow Tensors, not numpy arrays!  #\n",
    "    #                                                                      #\n",
    "    # The loss is the score for the target label, target_y. You should     #\n",
    "    # use tf.gradients to compute                                          #\n",
    "    # gradients. Don't forget the (subtracted) L2 regularization term!     #\n",
    "    ########################################################################\n",
    "    \n",
    "    \n",
    "    ############################################################################\n",
    "    #                             END OF YOUR CODE                             #\n",
    "    ############################################################################\n",
    "\n",
    "    \n",
    "    for t in range(num_iterations):\n",
    "        # Randomly jitter the image a bit; this gives slightly nicer results\n",
    "        ox, oy = np.random.randint(-max_jitter, max_jitter+1, 2)\n",
    "        x = np.roll(np.roll(x, ox, 1), oy, 2)\n",
    "        \n",
    "        ########################################################################\n",
    "        # TODO: Use sess to compute the value of the gradient of the score for #\n",
    "        # class target_y with respect to the pixels of the image, and make a   #\n",
    "        # gradient step on the image using the learning rate. You should use   #\n",
    "        # the grad variable you defined above.                                 #\n",
    "        #                                                                      #\n",
    "        # Be very careful about the signs of elements in your code.            #\n",
    "        ########################################################################\n",
    "        \n",
    "        \n",
    "        ############################################################################\n",
    "        #                             END OF YOUR CODE                             #\n",
    "        ############################################################################\n",
    "\n",
    "        # Undo the jitter\n",
    "        x = np.roll(np.roll(x, -ox, 1), -oy, 2)\n",
    "\n",
    "        # As a regularizer, clip and periodically blur\n",
    "        x = np.clip(x, 0.-VGG_MEAN, 255 - VGG_MEAN)\n",
    "        \n",
    "        if t % blur_every == 0:\n",
    "            x = blur_image(x, sigma=0.5)\n",
    "\n",
    "        # Periodically show the image\n",
    "        if t == 0 or (t + 1) % show_every == 0 or t == num_iterations - 1:\n",
    "            plt.imshow(deprocess_image(x[0]))\n",
    "            class_name = class_names[target_y]\n",
    "            plt.title('%s\\nIteration %d / %d' % (class_name, t + 1, num_iterations))\n",
    "            plt.gcf().set_size_inches(4, 4)\n",
    "            plt.axis('off')\n",
    "            plt.show()\n",
    "    return x"
   ]
  },
  {
   "cell_type": "code",
   "execution_count": null,
   "metadata": {
    "scrolled": true
   },
   "outputs": [],
   "source": [
    "target_y = 76 # Tarantula\n",
    "out = create_class_visualization(target_y, X,Y, scores)"
   ]
  },
  {
   "cell_type": "code",
   "execution_count": null,
   "metadata": {},
   "outputs": [],
   "source": [
    "target_y = 683 # Oboe\n",
    "out = create_class_visualization(target_y, X,Y, scores)"
   ]
  },
  {
   "cell_type": "code",
   "execution_count": null,
   "metadata": {},
   "outputs": [],
   "source": [
    "#try any class, you may need to increase the number of interations to see the class pattern\n",
    "# target_y = 78 # Tick\n",
    "# target_y = 187 # Yorkshire Terrier\n",
    "# target_y = 683 # Oboe\n",
    "# target_y = 366 # Gorilla\n",
    "# target_y = 604 # Hourglass"
   ]
  }
 ],
 "metadata": {
  "kernelspec": {
   "display_name": "Python 3",
   "language": "python",
   "name": "python3"
  },
  "language_info": {
   "codemirror_mode": {
    "name": "ipython",
    "version": 3
   },
   "file_extension": ".py",
   "mimetype": "text/x-python",
   "name": "python",
   "nbconvert_exporter": "python",
   "pygments_lexer": "ipython3",
   "version": "3.7.1"
  }
 },
 "nbformat": 4,
 "nbformat_minor": 2
}
