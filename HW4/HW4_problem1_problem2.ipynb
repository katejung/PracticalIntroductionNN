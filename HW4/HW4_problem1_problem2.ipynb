{
 "cells": [
  {
   "cell_type": "markdown",
   "metadata": {},
   "source": [
    "## Problem 1"
   ]
  },
  {
   "cell_type": "markdown",
   "metadata": {},
   "source": [
    "$$\n",
    "\\log{p_{\\theta}(x)} = \\log{\\int{p_{\\theta}(z)p_{\\theta}(x|z)}dz}\\\\\n",
    "$$"
   ]
  },
  {
   "cell_type": "markdown",
   "metadata": {},
   "source": [
    "Definition of KL Divergence:\n",
    "$$\n",
    "\\mathcal{D}_{KL}(q_\\phi(z)||p_{\\theta}(z)) = \\int p_{\\theta}(z)(\\log p_{\\theta}(z)-\\log q_{\\theta}(z))dz\n",
    "$$\n",
    "This shows how the distribution $q_\\phi(z)$ is different from the distribution of $p_{\\theta}(z)$, with the assumption that both prior and$p_{\\theta}(z) = \\mathcal{N}(0,I)$ and the posterior distribution $q_{\\phi}(z|x)$ are Gaussian"
   ]
  },
  {
   "cell_type": "markdown",
   "metadata": {},
   "source": [
    "Here, we want $p(x)$ with "
   ]
  },
  {
   "cell_type": "markdown",
   "metadata": {},
   "source": [
    "Thus, we need to solve the KL divergence between $q_\\phi(z|x)$ and $p_\\theta(z)$\n",
    "Given that\n",
    "$$\n",
    "p(z|x)p(x) = p(x,z)\\\\\n",
    "p(z|x)p(x) = p(z,x)p(z)\\\\\n",
    "\\log p(z|x) = \\log(p(x|z)+\\log p(z)-\\log p(x)\\\\\n",
    "$$\n",
    "Given\n",
    "$$\n",
    "\\mathcal{D}_{KL}(q_{\\phi}(z|x)||p_\\theta(z|x)) = E_{z\\sim q}[\\log(q_\\phi(z|x)-\\log p_\\theta(z|x)]\\\\\n",
    "= E_{z\\sim q}[\\log(q_\\phi(z|x)-\\log(p_\\theta(x|z)+\\log p(z)+\\log p(x)]\\\\\n",
    "= E_{z\\sim q}[\\log(q_\\phi(z|x)-\\log(p_\\theta(x|z)-\\log p_\\theta(z)]+\\log p_\\theta(x)\\\\\n",
    "$$\n",
    "We know that\n",
    "$$\n",
    "E_{z\\sim q}[\\log(q_\\phi(z|x)-\\log p_\\theta(z)] = \\mathcal{D}_{KL}[q_\\phi(z|x)||p_\\theta(z)]\n",
    "$$\n",
    "Therefore, \n",
    "$$\n",
    "\\mathcal{D}_{KL}(q_{\\phi}(z|x)||p_\\theta(z|x)) = \\mathcal{D}_{KL}[q_\\phi(z|x)||p_\\theta(z)]-E_{z\\sim q}[\\log(p_\\theta(x|z)]+\\log p_\\theta(x)\n",
    "$$\n",
    "\n",
    "$$\n",
    "E_{z\\sim q}[\\log(p_\\theta(x|z)]+\\log p_\\theta(x) =\n",
    "\\mathcal{D}_{KL}(q_{\\phi}(z|x)||p_\\theta(z|x))-\\mathcal{D}_{KL}[q_\\phi(z|x)||p_\\theta(z)]\n",
    "$$\n",
    "rearranging,\n",
    "$$\n",
    "\\log p_\\theta(x)-\\mathcal{D}_{KL}(q_{\\phi}(z|x)||p_\\theta(z|x)) =\n",
    "E_{z\\sim q}[\\log(p_\\theta(x|z)]-\\mathcal{D}_{KL}[q_\\phi(z|x)||p_\\theta(z)]\n",
    "$$"
   ]
  },
  {
   "cell_type": "markdown",
   "metadata": {},
   "source": [
    "Since KL divergence is always > 0, \n",
    "$$\n",
    "\\log p_\\theta(x)>\n",
    "E_{z\\sim q}[\\log(p_\\theta(x|z)]-\\mathcal{D}_{KL}[q_\\phi(z|x)||p_\\theta(z)]\n",
    "$$"
   ]
  },
  {
   "cell_type": "markdown",
   "metadata": {},
   "source": [
    "We can now maximize the lower bound. and the equation above comprises the loss, $\\mathcal{L}$\n",
    "The first term, $E_{z\\sim q}[\\log(p_\\theta(x|z)]$ can be maximized--given an input x and an outpu x, we can maximize the ocnditional distribution under the parameter $\\theta$."
   ]
  },
  {
   "cell_type": "markdown",
   "metadata": {},
   "source": [
    "## Problem 2"
   ]
  },
  {
   "cell_type": "markdown",
   "metadata": {},
   "source": [
    "\n",
    "$$\n",
    "D^*(x) = argmin_D V_{LSGAN}(D)\\\\\n",
    "$$\n",
    "By  Radon-Nikodym Theorem,\n",
    "$$\n",
    "E_{z\\sim p_z(Z)}[D(G(z))-a)^2] = E_{x \\sim p_G} (x)[(D(x))-a)^2]\\\\\n",
    "$$\n",
    "This gives \n",
    "$$\n",
    "V_{LSGAN}(D)=\\frac{1}{2}\\int_x \\{ p_{data}(x)[(D(x)-b)^2]+ \\int_z p_z(z)(D(G(z))-a)^2\\}\\\\\n",
    "=\\frac{1}{2}\\int_x \\{ p_{data}(x)[(D(x)-b)^2]+ p_G(x)(D(x)-a)^2\\}\n",
    "$$\n",
    "Taking the derivative, \n",
    "$$\n",
    " p_{data}(x)[(D^*(x)-b)] = p_G(x)[D^*(x)-a)]\\\\\n",
    "  p_{data}(x) D^*(x)-p_G(x)D^*(x)=b p_{data}(x)-a p_G(x)\\\\\n",
    "   D^*(x)(p_{data}-p_G)=b p_{data}(x)-a p_G(x)\\\\\n",
    "$$\n",
    "Therefore,\n",
    "$$\n",
    "D^*(x) = \\frac{bp_{data}(x)+ap_G(x)}{p_{data}(x)+p_G(x)}\n",
    "$$"
   ]
  },
  {
   "cell_type": "markdown",
   "metadata": {},
   "source": [
    "Compared to regular GAN, the optimal value depends on the parameter b and a, which is the the discriminator value for real and fake data, respectively. Thus, when the probability of the model inxcreases, the objective function also increases. "
   ]
  },
  {
   "cell_type": "code",
   "execution_count": null,
   "metadata": {},
   "outputs": [],
   "source": []
  }
 ],
 "metadata": {
  "kernelspec": {
   "display_name": "Python 2",
   "language": "python",
   "name": "python2"
  },
  "language_info": {
   "codemirror_mode": {
    "name": "ipython",
    "version": 2
   },
   "file_extension": ".py",
   "mimetype": "text/x-python",
   "name": "python",
   "nbconvert_exporter": "python",
   "pygments_lexer": "ipython2",
   "version": "2.7.14"
  }
 },
 "nbformat": 4,
 "nbformat_minor": 2
}
