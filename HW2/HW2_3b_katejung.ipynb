{
 "cells": [
  {
   "cell_type": "code",
   "execution_count": 14,
   "metadata": {
    "collapsed": false
   },
   "outputs": [],
   "source": [
    "import tensorflow as tf\n",
    "import pickle\n",
    "import numpy as np\n",
    "import time\n",
    "from load_cifar import *"
   ]
  },
  {
   "cell_type": "code",
   "execution_count": 15,
   "metadata": {
    "collapsed": false
   },
   "outputs": [],
   "source": [
    "valid_features, valid_labels = load_preprocessed_validation_batch()\n",
    "\n",
    "test_features, test_labels = load_preprocessed_test_batch()"
   ]
  },
  {
   "cell_type": "code",
   "execution_count": 16,
   "metadata": {
    "collapsed": true
   },
   "outputs": [],
   "source": [
    "tf.reset_default_graph()"
   ]
  },
  {
   "cell_type": "markdown",
   "metadata": {},
   "source": [
    "<h1>Hyperparameter</h1>"
   ]
  },
  {
   "cell_type": "code",
   "execution_count": 17,
   "metadata": {
    "collapsed": true
   },
   "outputs": [],
   "source": [
    "#learning rate\n",
    "lr = 0.0001\n",
    "#number of traning steps\n",
    "num_epochs =10\n",
    "\n",
    "#number of batch_size\n",
    "batch_size = 128\n",
    "#network parameters\n",
    "num_classes = 10"
   ]
  },
  {
   "cell_type": "markdown",
   "metadata": {},
   "source": [
    "<h1>Placeholder</h1>"
   ]
  },
  {
   "cell_type": "code",
   "execution_count": 18,
   "metadata": {
    "collapsed": false
   },
   "outputs": [],
   "source": [
    "X = tf.placeholder(tf.float32, shape=[None, 32, 32, 3], name='X')\n",
    "Y = tf.placeholder(tf.float32, shape=[None, num_classes], name='Y')\n",
    "drop_prob = tf.placeholder(tf.float32, name='drop_prob')"
   ]
  },
  {
   "cell_type": "markdown",
   "metadata": {},
   "source": [
    "<h1>LeNet-5</h1>"
   ]
  },
  {
   "cell_type": "code",
   "execution_count": 19,
   "metadata": {
    "collapsed": true
   },
   "outputs": [],
   "source": [
    "def LeNet5(X,drop_prob):\n",
    "    conv1_W = tf.Variable(tf.truncated_normal(shape=[5, 5, 3, 64], mean=0, stddev=0.08))\n",
    "    conv1_b = tf.Variable(tf.zeros(shape=64))\n",
    "\n",
    "    conv1 = tf.nn.conv2d(X, conv1_W, strides=[1,1,1,1], padding='SAME')+ conv1_b\n",
    "    conv1 = tf.nn.relu(conv1)\n",
    "    conv1_pool = tf.nn.max_pool(conv1, ksize=[1,3,3,1], strides=[1,2,2,1], padding='SAME')\n",
    "    conv1_bn = tf.layers.batch_normalization(conv1_pool)\n",
    "    \n",
    "    conv2_W = tf.Variable(tf.truncated_normal(shape=[5, 5, 64, 64], mean=0, stddev=0.08))\n",
    "    conv2_b = tf.Variable(tf.constant(0.1,shape=[64]))\n",
    "\n",
    "    conv2 = tf.nn.conv2d(conv1_bn, conv2_W, strides=[1,1,1,1], padding='SAME')+ conv2_b\n",
    "    conv2 = tf.nn.relu(conv2)\n",
    "    conv2_pool = tf.nn.max_pool(conv2, ksize=[1,3,3,1], strides=[1,2,2,1], padding='SAME')\n",
    "    conv2_bn = tf.layers.batch_normalization(conv2_pool)\n",
    "    \n",
    "    conv3_W = tf.Variable(tf.truncated_normal(shape=[5, 5, 64, 128], mean=0, stddev=0.08))\n",
    "    conv3_b = tf.Variable(tf.constant(0.1,shape=[128]))\n",
    "        \n",
    "    conv3 = tf.nn.conv2d(conv2_bn, conv3_W, strides=[1,1,1,1], padding='SAME') +conv3_b\n",
    "    conv3 = tf.nn.relu(conv3)\n",
    "    conv3_pool = tf.nn.max_pool(conv3, ksize=[1,2,2,1], strides=[1,2,2,1], padding='SAME')\n",
    "    \n",
    "    conv4_W = tf.Variable(tf.truncated_normal(shape=[5, 5, 128, 256], mean=0, stddev=0.08))\n",
    "    conv3_b = tf.Variable(tf.constant(0.1,shape=[256]))\n",
    "    \n",
    "    conv4 = tf.nn.conv2d(conv3_pool, conv4_W, strides=[1,1,1,1], padding='SAME') +conv3_b\n",
    "    conv4 = tf.nn.relu(conv4)\n",
    "    conv4_pool = tf.nn.max_pool(conv2, ksize=[1,2,2,1], strides=[1,2,2,1], padding='SAME')\n",
    "\n",
    "    flat = tf.contrib.layers.flatten(conv4_pool)  \n",
    "\n",
    "    full1 = tf.contrib.layers.fully_connected(inputs=flat, num_outputs=128, activation_fn=tf.nn.relu)\n",
    "    full1 = tf.nn.dropout(full1, drop_prob)\n",
    "    full1 = tf.layers.batch_normalization(full1)\n",
    "    \n",
    "    full2 = tf.contrib.layers.fully_connected(inputs=full1, num_outputs=256, activation_fn=tf.nn.relu)\n",
    "    full2 = tf.nn.dropout(full2, drop_prob)\n",
    "    full2 = tf.layers.batch_normalization(full2)\n",
    "    \n",
    "    full3 = tf.contrib.layers.fully_connected(inputs=full2, num_outputs=512, activation_fn=tf.nn.relu)\n",
    "    full3 = tf.nn.dropout(full3, drop_prob)\n",
    "    full3 = tf.layers.batch_normalization(full3)    \n",
    "    \n",
    "    full4 = tf.contrib.layers.fully_connected(inputs=full3, num_outputs=120, activation_fn=tf.nn.relu)\n",
    "    full4 = tf.nn.dropout(full4, drop_prob)\n",
    "    full4 = tf.layers.batch_normalization(full4) \n",
    "    \n",
    "    logits = tf.contrib.layers.fully_connected(inputs=full3, num_outputs=10, activation_fn=tf.nn.softmax)\n",
    "    return logits"
   ]
  },
  {
   "cell_type": "markdown",
   "metadata": {},
   "source": [
    "<h1>Cost and Optimization</h1>"
   ]
  },
  {
   "cell_type": "code",
   "execution_count": 20,
   "metadata": {
    "collapsed": true
   },
   "outputs": [],
   "source": [
    "logits = LeNet5(X,drop_prob)\n",
    "cross_entropy = tf.nn.softmax_cross_entropy_with_logits_v2(logits=logits, labels=Y)\n",
    "loss = tf.reduce_mean(cross_entropy)\n",
    "optimizer = tf.train.AdamOptimizer(learning_rate = lr)\n",
    "train_optimizer = optimizer.minimize(loss)\n",
    "correct_prediction = tf.equal(tf.argmax(logits, 1), tf.argmax(Y, 1))\n",
    "accuracy = tf.reduce_mean(tf.cast(correct_prediction, tf.float32))\n",
    "init = tf.global_variables_initializer()\n"
   ]
  },
  {
   "cell_type": "markdown",
   "metadata": {},
   "source": [
    "<h1>Training, validation and testing</h1>\n",
    "<h2>Train your model only 10 epochs.</h2>\n",
    "<h2>1.Print out validation accuracy after each training epoch</h2>\n",
    "<h2>2.Print out training time for each training epoch</h2>\n",
    "<h2>3.Print out testing accuracy</h2>"
   ]
  },
  {
   "cell_type": "code",
   "execution_count": 21,
   "metadata": {
    "collapsed": false,
    "scrolled": false
   },
   "outputs": [
    {
     "name": "stdout",
     "output_type": "stream",
     "text": [
      "epoch 0, Validation Accuracy= 0.298\n",
      "    Train Time = 228.783\n",
      "epoch 1, Validation Accuracy= 0.380\n",
      "    Train Time = 245.853\n",
      "epoch 2, Validation Accuracy= 0.423\n",
      "    Train Time = 229.710\n",
      "epoch 3, Validation Accuracy= 0.445\n",
      "    Train Time = 247.904\n",
      "epoch 4, Validation Accuracy= 0.470\n",
      "    Train Time = 227.784\n",
      "epoch 5, Validation Accuracy= 0.487\n",
      "    Train Time = 246.126\n",
      "epoch 6, Validation Accuracy= 0.496\n",
      "    Train Time = 260.556\n",
      "epoch 7, Validation Accuracy= 0.507\n",
      "    Train Time = 256.174\n",
      "epoch 8, Validation Accuracy= 0.526\n",
      "    Train Time = 254.951\n",
      "epoch 9, Validation Accuracy= 0.537\n",
      "    Train Time = 219.242\n",
      "Training finished!\n",
      "Testing ACcuracy: 0.5421\n"
     ]
    }
   ],
   "source": [
    "with tf.Session() as sess:\n",
    "    sess.run(init)\n",
    "    for i in range(num_epochs):\n",
    "        #fetch batch\n",
    "        start = time.time()\n",
    "        for batch_id in np.arange(1,6):\n",
    "            for fearues_batch, labels_batch in load_preprocessed_training_batch(batch_id,batch_size):\n",
    "                #run optimization\n",
    "                sess.run(train_optimizer, feed_dict={X:fearues_batch, \n",
    "                                                     Y:labels_batch,\n",
    "                                                     drop_prob: 0.5})\n",
    "        end = time.time()\n",
    "        x_train,y_train = pickle.load(open('cifar-preprocessed/batch_train_1','rb'))\n",
    "        acc = sess.run(accuracy,feed_dict={X:valid_features, \n",
    "                                           Y:valid_labels,\n",
    "                                           drop_prob: 1.})\n",
    "        print(\"epoch \"+str(i)+\", Validation Accuracy= {:.3f}\".format(acc))\n",
    "        print(\"    Train Time = {:.3f}\".format(end-start))\n",
    "    print(\"Training finished!\") \n",
    "    print(\"Testing ACcuracy:\", sess.run(accuracy, \n",
    "                                        feed_dict={X:test_features, \n",
    "                                                   Y:test_labels, \n",
    "                                                   drop_prob: 1.}))"
   ]
  },
  {
   "cell_type": "markdown",
   "metadata": {},
   "source": []
  }
 ],
 "metadata": {
  "kernelspec": {
   "display_name": "Python 3",
   "language": "python",
   "name": "python3"
  },
  "language_info": {
   "codemirror_mode": {
    "name": "ipython",
    "version": 3
   },
   "file_extension": ".py",
   "mimetype": "text/x-python",
   "name": "python",
   "nbconvert_exporter": "python",
   "pygments_lexer": "ipython3",
   "version": "3.4.5"
  }
 },
 "nbformat": 4,
 "nbformat_minor": 2
}
